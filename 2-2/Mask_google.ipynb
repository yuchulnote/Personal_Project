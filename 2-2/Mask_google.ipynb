{
 "cells": [
  {
   "cell_type": "code",
   "execution_count": 1,
   "id": "156c4ad4",
   "metadata": {},
   "outputs": [
    {
     "data": {
      "text/plain": [
       "device(type='cpu')"
      ]
     },
     "execution_count": 1,
     "metadata": {},
     "output_type": "execute_result"
    }
   ],
   "source": [
    "import numpy as np\n",
    "import pandas as pd\n",
    "import matplotlib.pyplot as plt\n",
    "import torch\n",
    "import torch.nn as nn\n",
    "import torch.nn.functional as F\n",
    "import torch.optim as optim\n",
    "from torch.utils.data import DataLoader, random_split, SubsetRandomSampler, Subset, WeightedRandomSampler\n",
    "import torchvision\n",
    "from torch.autograd import Variable\n",
    "from torchvision.datasets import ImageFolder, DatasetFolder\n",
    "import torchvision.transforms as transforms\n",
    "from sklearn.metrics import confusion_matrix, classification_report\n",
    "import os\n",
    "import seaborn as sns\n",
    "\n",
    "import PIL\n",
    "from PIL import Image\n",
    "import warnings\n",
    "device = torch.device('cuda' if torch.cuda.is_available() else 'cpu')\n",
    "device"
   ]
  },
  {
   "cell_type": "code",
   "execution_count": 2,
   "id": "36d668f7",
   "metadata": {},
   "outputs": [],
   "source": [
    "image_transforms = transforms.Compose(\n",
    "                   [transforms.Resize((224,224)),\n",
    "                    transforms.ToTensor(),\n",
    "                    transforms.Normalize((0.5, 0.5, 0.5), (0.5, 0.5, 0.5))])"
   ]
  },
  {
   "cell_type": "code",
   "execution_count": 3,
   "id": "b3cdf93e",
   "metadata": {},
   "outputs": [
    {
     "name": "stdout",
     "output_type": "stream",
     "text": [
      "현재 디렉토리 위치: /Users/yuchul/Anaconda/Baram/MaskClassificaion\n"
     ]
    }
   ],
   "source": [
    "from pathlib import Path\n",
    "\n",
    "folder = \"Anaconda/Baram\"\n",
    "project_dir = \"MaskClassificaion\"\n",
    "\n",
    "base_path = Path(\"/Users/yuchul/\")\n",
    "project_path = base_path / folder / project_dir\n",
    "os.chdir(project_path)\n",
    "for x in list(project_path.glob(\"*\")):\n",
    "    if x.is_dir():\n",
    "        dir_name = str(x.relative_to(project_path))\n",
    "        os.rename(dir_name, dir_name.split(\" \", 1)[0])\n",
    "print(f\"현재 디렉토리 위치: {os.getcwd()}\")"
   ]
  },
  {
   "cell_type": "code",
   "execution_count": 4,
   "id": "7925e759",
   "metadata": {},
   "outputs": [],
   "source": [
    "current_path = Path().absolute()\n",
    "data_path = current_path / \"data\""
   ]
  },
  {
   "cell_type": "code",
   "execution_count": 5,
   "id": "26b0cbbf",
   "metadata": {},
   "outputs": [
    {
     "name": "stdout",
     "output_type": "stream",
     "text": [
      "현재 디렉토리 위치: /Users/yuchul/Anaconda/Baram/MaskClassificaion\n"
     ]
    }
   ],
   "source": [
    "print(\"현재 디렉토리 위치: {}\".format(current_path))"
   ]
  },
  {
   "cell_type": "code",
   "execution_count": 6,
   "id": "ad1c36dd",
   "metadata": {},
   "outputs": [],
   "source": [
    "MAIN = '/Users/yuchul/Anaconda/Baram/MaskClassificaion/data'"
   ]
  },
  {
   "cell_type": "code",
   "execution_count": 7,
   "id": "72c97495",
   "metadata": {},
   "outputs": [
    {
     "data": {
      "text/plain": [
       "Dataset ImageFolder\n",
       "    Number of datapoints: 7553\n",
       "    Root location: /Users/yuchul/Anaconda/Baram/MaskClassificaion/data\n",
       "    StandardTransform\n",
       "Transform: Compose(\n",
       "               Resize(size=(224, 224), interpolation=bilinear, max_size=None, antialias=None)\n",
       "               ToTensor()\n",
       "               Normalize(mean=(0.5, 0.5, 0.5), std=(0.5, 0.5, 0.5))\n",
       "           )"
      ]
     },
     "execution_count": 7,
     "metadata": {},
     "output_type": "execute_result"
    }
   ],
   "source": [
    "dataset = ImageFolder(\n",
    "                      root = MAIN,\n",
    "                      transform = image_transforms\n",
    "                       )\n",
    "dataset"
   ]
  },
  {
   "cell_type": "code",
   "execution_count": 8,
   "id": "8ef5053d",
   "metadata": {},
   "outputs": [],
   "source": [
    "train_data = torchvision.datasets.ImageFolder(root='./data', transform= image_transforms)\n",
    "# val_data = torchvision.datasets.ImageFolder(root='./data/mask_cnn/Validation', transform=data_transforms['val'])\n",
    "# test_data = torchvision.datasets.ImageFolder(root='./data/mask_cnn/Test', transform=data_transforms['val'])"
   ]
  },
  {
   "cell_type": "code",
   "execution_count": 9,
   "id": "217528bb",
   "metadata": {},
   "outputs": [
    {
     "data": {
      "text/plain": [
       "7553"
      ]
     },
     "execution_count": 9,
     "metadata": {},
     "output_type": "execute_result"
    }
   ],
   "source": [
    "len(train_data)"
   ]
  },
  {
   "cell_type": "code",
   "execution_count": 10,
   "id": "6c0aa45b",
   "metadata": {},
   "outputs": [
    {
     "data": {
      "text/plain": [
       "{'with_mask': 1, 'without_mask': 0}"
      ]
     },
     "execution_count": 10,
     "metadata": {},
     "output_type": "execute_result"
    }
   ],
   "source": [
    "dataset.class_to_idx\n",
    "\n",
    "dataset.class_to_idx = {'with_mask':1, 'without_mask':0}\n",
    "dataset.class_to_idx"
   ]
  },
  {
   "cell_type": "code",
   "execution_count": 11,
   "id": "a16c29e0",
   "metadata": {},
   "outputs": [
    {
     "data": {
      "text/plain": [
       "{1: 'with_mask', 0: 'without_mask'}"
      ]
     },
     "execution_count": 11,
     "metadata": {},
     "output_type": "execute_result"
    }
   ],
   "source": [
    "idx2class = {v: k for k, v in dataset.class_to_idx.items()}\n",
    "idx2class"
   ]
  },
  {
   "cell_type": "code",
   "execution_count": 12,
   "id": "c4b9290b",
   "metadata": {},
   "outputs": [
    {
     "name": "stderr",
     "output_type": "stream",
     "text": [
      "/Users/yuchul/opt/anaconda3/lib/python3.9/site-packages/PIL/Image.py:959: UserWarning: Palette images with Transparency expressed in bytes should be converted to RGBA images\n",
      "  warnings.warn(\n"
     ]
    },
    {
     "name": "stdout",
     "output_type": "stream",
     "text": [
      "Distribution of classes: \n",
      " {'with_mask': 3828, 'without_mask': 3725}\n"
     ]
    }
   ],
   "source": [
    "def get_class_distribution(dataset_obj):\n",
    "    count_dict = {k:0 for k,v in dataset_obj.class_to_idx.items()}\n",
    "    \n",
    "    for element in dataset_obj:\n",
    "        y_lbl = element[1]\n",
    "        y_lbl = idx2class[y_lbl]\n",
    "        count_dict[y_lbl] += 1\n",
    "            \n",
    "    return count_dict\n",
    "print(\"Distribution of classes: \\n\", get_class_distribution(dataset))"
   ]
  },
  {
   "cell_type": "code",
   "execution_count": 13,
   "id": "440a7603",
   "metadata": {},
   "outputs": [
    {
     "data": {
      "image/png": "[encoded data removed]",
      "text/plain": [
       "<Figure size 1080x576 with 1 Axes>"
      ]
     },
     "metadata": {
      "needs_background": "light"
     },
     "output_type": "display_data"
    }
   ],
   "source": [
    "plt.figure(figsize=(15,8))\n",
    "sns.barplot(data = pd.DataFrame.from_dict([get_class_distribution(dataset)]).melt(), x = \"variable\", y=\"value\", hue=\"variable\").set_title('Face Mask Class Distribution')\n",
    "plt.show()"
   ]
  },
  {
   "cell_type": "code",
   "execution_count": null,
   "id": "de53aeab",
   "metadata": {},
   "outputs": [],
   "source": [
    "len(dataset)"
   ]
  },
  {
   "cell_type": "code",
   "execution_count": null,
   "id": "82224f8c",
   "metadata": {},
   "outputs": [],
   "source": [
    "train_dataset, val_dataset = random_split(dataset, (6000, 1553))"
   ]
  },
  {
   "cell_type": "code",
   "execution_count": null,
   "id": "70e41208",
   "metadata": {},
   "outputs": [],
   "source": [
    "train_loader = DataLoader(dataset=train_dataset, shuffle=True, batch_size=32, num_workers=5)\n",
    "val_loader = DataLoader(dataset=val_dataset, shuffle=False, batch_size=32, num_workers=5)\n",
    "print(\"Length of the train_loader:\", len(train_loader))\n",
    "print(\"Length of the val_loader:\", len(val_loader))"
   ]
  },
  {
   "cell_type": "code",
   "execution_count": null,
   "id": "d16a8348",
   "metadata": {},
   "outputs": [],
   "source": [
    "def imshow(img):\n",
    "    img = img / 2 + 0.5     # unnormalize\n",
    "    npimg = img.numpy()\n",
    "    plt.imshow(np.transpose(npimg, (1, 2, 0)))\n",
    "    plt.show()\n",
    "\n",
    "\n",
    "# get some random training images\n",
    "dataiter = iter(train_loader)\n",
    "images, labels = dataiter.next()\n",
    "\n",
    "# show images\n",
    "imshow(torchvision.utils.make_grid(images))\n",
    "# print labels\n",
    "classes = ('with_mask', 'without_mask')\n",
    "print(' '.join('%5s' % classes[labels[j]] for j in range(4)))"
   ]
  },
  {
   "cell_type": "code",
   "execution_count": null,
   "id": "7c790459",
   "metadata": {},
   "outputs": [],
   "source": [
    "class Net(nn.Module):\n",
    "    def __init__(self):\n",
    "        super(Net, self).__init__()\n",
    "        \n",
    "        self.conv = nn.Sequential(\n",
    "\n",
    "            nn.Conv2d(3, 32, kernel_size=3, stride=2, padding=1),    \n",
    "            nn.BatchNorm2d(32),                                      \n",
    "            nn.ReLU(),                                               \n",
    "                                                 \n",
    "            \n",
    "            nn.Conv2d(32, 64, kernel_size=3, stride=1, padding=1),   \n",
    "            nn.BatchNorm2d(64),                                      \n",
    "            nn.ReLU(),                                               \n",
    "            nn.MaxPool2d(2),                                         \n",
    "            \n",
    "            nn.Conv2d(64, 128, kernel_size=3, stride=2, padding=1),  \n",
    "            nn.BatchNorm2d(128),                                     \n",
    "            nn.ReLU(),                                                                                      \n",
    "            \n",
    "            nn.Conv2d(128, 128, kernel_size=3, stride=2, padding=1), \n",
    "            nn.BatchNorm2d(128),                                     \n",
    "            nn.ReLU(),                                               \n",
    "            nn.MaxPool2d(2),                                         \n",
    "\n",
    "        )\n",
    "        \n",
    "        self.fc1 = torch.nn.Linear(6272, 512)\n",
    "        self.fc2 = torch.nn.Linear(512,2)\n",
    "    \n",
    "    def forward(self, x):\n",
    "#         print(\"함수들어가기 전\", x.shape)\n",
    "        x = self.conv(x)\n",
    "#         print(\"모든layer거친 후\", x.shape)\n",
    "        x = x.view(x.shape[0], -1)\n",
    "#         print(\"Flatten\", x.shape)\n",
    "        x = F.relu(self.fc1(x))\n",
    "#         print(\"relu(fc1)\", x.shape)\n",
    "        x = self.fc2(x)\n",
    "#         print(\"fc2출력\", x.shape)\n",
    "        return x\n",
    "\n",
    "net = Net()"
   ]
  },
  {
   "cell_type": "code",
   "execution_count": null,
   "id": "5946eb3a",
   "metadata": {},
   "outputs": [],
   "source": [
    "criterion = nn.CrossEntropyLoss()\n",
    "optimizer = optim.Adam(net.parameters(), lr=0.001)"
   ]
  },
  {
   "cell_type": "code",
   "execution_count": null,
   "id": "3344d42a",
   "metadata": {},
   "outputs": [],
   "source": [
    "def images_to_probs(net, images):\n",
    "    output = net(images)\n",
    "    # convert output probabilities to predicted class\n",
    "    _, preds_tensor = torch.max(output, 1)\n",
    "    preds = np.squeeze(preds_tensor.numpy())\n",
    "    return preds, [F.softmax(el, dim=0)[i].item() for i, el in zip(preds, output)]\n",
    "\n",
    "def evaluate(net, dataloader):\n",
    "    correct, total = 0, 0\n",
    "    with torch.no_grad():\n",
    "        net.eval()\n",
    "        for images, labels in dataloader:\n",
    "            images, labels = images, labels.numpy()\n",
    "\n",
    "            preds, probs = images_to_probs(net, images)\n",
    "\n",
    "            total += len(labels)\n",
    "            correct += (preds == labels).sum()\n",
    "    return correct/total * 100\n",
    "\n",
    "from tqdm.notebook import tqdm\n",
    "\n",
    "def train(net, loss_fn, opt, dataloader, epochs):\n",
    "    num_steps = 0\n",
    "    min_loss = 1e+10\n",
    "\n",
    "    for epoch in tqdm(range(1, epochs+1), total=epochs, desc='Training'):\n",
    "        running_loss = []\n",
    "        net.train() # Setting the network to TRAIN mode\n",
    "        for images, labels in dataloader:\n",
    "            images, labels = images, labels\n",
    "            num_steps += 1\n",
    "\n",
    "            # FP\n",
    "            outs = net(images)\n",
    "            loss = loss_fn(outs, labels)\n",
    "\n",
    "            # Logging the loss value\n",
    "            running_loss.append(loss.item())\n",
    "\n",
    "            # BP\n",
    "            opt.zero_grad()\n",
    "            loss.backward()\n",
    "            opt.step()\n",
    "\n",
    "            # Clearing the RAM\n",
    "            #del images, labels, outs\n",
    "            #torch.device('cpu').empty_cache()\n",
    "        \n",
    "        epoch_loss = sum(running_loss) / len(running_loss)\n",
    "        acc = evaluate(net, dataloader)\n",
    "        print(\"Accuracy: \",acc)\n",
    "        print(\"loss: \",epoch_loss)\n",
    "        # Model Checkpointing\n",
    "        if epoch_loss < min_loss:\n",
    "            min_loss = epoch_loss\n",
    "            bestmodel = net.state_dict()\n",
    "    #torch.save(bestmodel,'{0}_{1:0.4f}.pth'.format('classifier',min_loss))\n",
    "    return None\n",
    "\n",
    "    print('Training finished!!!')"
   ]
  },
  {
   "cell_type": "code",
   "execution_count": null,
   "id": "1544fb95",
   "metadata": {},
   "outputs": [],
   "source": [
    "train(net, criterion, optimizer, train_loader, 5)"
   ]
  },
  {
   "cell_type": "code",
   "execution_count": null,
   "id": "64f8af79",
   "metadata": {},
   "outputs": [],
   "source": [
    "testimg, testlab = next(iter(val_loader))\n",
    "testimg, testlab = testimg, testlab\n",
    "\n",
    "pred = net(testimg)\n",
    "predlab = torch.argmax(pred,axis=1)"
   ]
  },
  {
   "cell_type": "code",
   "execution_count": null,
   "id": "13d13e24",
   "metadata": {
    "scrolled": true
   },
   "outputs": [],
   "source": [
    "print(\"Predicted\",[i for i in predlab])\n",
    "print(\"Actual\",[i for i in testlab])\n",
    "for i in predlab:\n",
    "  if i == 0:\n",
    "    print(\"without_mask\")\n",
    "  else:\n",
    "    print(\"with_mask\")\n",
    "print(\"______________________________________________________________________________________________________________\")\n",
    "for i in testlab:\n",
    "  if i == 0:\n",
    "    print(\"without_mask\")\n",
    "  else:\n",
    "    print(\"with_mask\")"
   ]
  },
  {
   "cell_type": "code",
   "execution_count": null,
   "id": "a093f103",
   "metadata": {},
   "outputs": [],
   "source": [
    "predlab = predlab.to(torch.device('cpu'))\n",
    "testlab = testlab.to(torch.device('cpu'))\n",
    "pred = predlab.numpy()\n",
    "test = testlab.numpy()\n",
    "matrix = confusion_matrix(test,pred)\n",
    "print(matrix)"
   ]
  },
  {
   "cell_type": "code",
   "execution_count": null,
   "id": "9511aed3",
   "metadata": {},
   "outputs": [],
   "source": [
    "report = classification_report(test, pred, target_names=['with_mask','without_mask'])\n",
    "print(report)  "
   ]
  },
  {
   "cell_type": "code",
   "execution_count": null,
   "id": "329e312f",
   "metadata": {
    "scrolled": true
   },
   "outputs": [],
   "source": [
    "import cv2\n",
    "\n",
    "labels_dict={0:'without_mask',1:'with_mask'}\n",
    "color_dict={0:(0,0,255),1:(0,255,0)}\n",
    "\n",
    "size = 4\n",
    "webcam = cv2.VideoCapture(0) #Use camera 0\n",
    "\n",
    "# We load the xml file\n",
    "classifier = cv2.CascadeClassifier('haarcascade_frontalface_default.xml')\n",
    "\n",
    "while True:\n",
    "    (rval, im) = webcam.read()\n",
    "    im=cv2.flip(im,1,1) #Flip to act as a mirror\n",
    "\n",
    "    # Resize the image to speed up detection\n",
    "    mini = cv2.resize(im, (im.shape[1] // size, im.shape[0] // size))\n",
    "\n",
    "    # detect MultiScale / faces \n",
    "    faces = classifier.detectMultiScale(mini)\n",
    "\n",
    "    # Draw rectangles around each face\n",
    "    for f in faces:\n",
    "        (x, y, w, h) = [v * size for v in f] #Scale the shapesize backup\n",
    "        #Save just the rectangle faces in SubRecFaces\n",
    "        face_img = im[y:y+h, x:x+w]\n",
    "        resized=cv2.resize(face_img,(224,224))\n",
    "        normalized=resized/255.0\n",
    "        reshaped=np.reshape(normalized,(1,3,224,224))\n",
    "#         reshaped = np.vstack([reshaped])\n",
    "        result=net.forward(torch.FloatTensor(reshaped))\n",
    "#         print(result)\n",
    "        \n",
    "        label=torch.argmax(result,dim=1)[0]\n",
    "        label = label.tolist()\n",
    "#         print(label)\n",
    "    \n",
    "        cv2.rectangle(im,(x,y),(x+w,y+h),color_dict[label],2)\n",
    "        cv2.rectangle(im,(x,y-40),(x+w,y),color_dict[label],-1)\n",
    "        cv2.putText(im, labels_dict[label], (x, y-10),cv2.FONT_HERSHEY_SIMPLEX,0.8,(255,255,255),2)\n",
    "        \n",
    "    # Show the image\n",
    "    cv2.imshow('LIVE',   im)\n",
    "    key = cv2.waitKey(30)\n",
    "    # if Esc key is press then break out of the loop \n",
    "    if key == 27: #The Esc key\n",
    "        break"
   ]
  },
  {
   "cell_type": "code",
   "execution_count": null,
   "id": "7391a3bf",
   "metadata": {},
   "outputs": [],
   "source": []
  }
 ],
 "metadata": {
  "kernelspec": {
   "display_name": "Python 3 (ipykernel)",
   "language": "python",
   "name": "python3"
  },
  "language_info": {
   "codemirror_mode": {
    "name": "ipython",
    "version": 3
   },
   "file_extension": ".py",
   "mimetype": "text/x-python",
   "name": "python",
   "nbconvert_exporter": "python",
   "pygments_lexer": "ipython3",
   "version": "3.9.12"
  }
 },
 "nbformat": 4,
 "nbformat_minor": 5
}
