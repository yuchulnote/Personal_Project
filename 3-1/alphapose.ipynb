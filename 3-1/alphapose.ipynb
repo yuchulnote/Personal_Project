{
 "cells": [
  {
   "cell_type": "code",
   "execution_count": 16,
   "metadata": {},
   "outputs": [],
   "source": [
    "import os\n",
    "import cv2"
   ]
  },
  {
   "cell_type": "code",
   "execution_count": 3,
   "metadata": {},
   "outputs": [],
   "source": [
    "os.chdir('./AlphaPose')"
   ]
  },
  {
   "cell_type": "code",
   "execution_count": 14,
   "metadata": {},
   "outputs": [],
   "source": [
    "def split_video_into_frames(video_path, output_folder):\n",
    "    # 비디오 읽어오기\n",
    "    capture = cv2.VideoCapture(video_path)\n",
    "\n",
    "    frame_count = 0\n",
    "\n",
    "    while True:\n",
    "        ret, frame = capture.read()\n",
    "        if not ret:\n",
    "            break\n",
    "\n",
    "        frame_path = f\"{output_folder}/frame_{frame_count}.jpg\"\n",
    "        cv2.imwrite(frame_path, frame)\n",
    "\n",
    "        frame_count += 1\n",
    "\n",
    "    capture.release()"
   ]
  },
  {
   "cell_type": "code",
   "execution_count": 17,
   "metadata": {},
   "outputs": [],
   "source": [
    "split_video_into_frames(\"C:/Users/yuddo/OneDrive/바탕 화면/temp/Personal_Project/3-1/AlphaPose/user.mp4\", \"C:/Users/yuddo/OneDrive/바탕 화면/temp/Personal_Project/3-1/AlphaPose/split_video\")"
   ]
  },
  {
   "cell_type": "code",
   "execution_count": 18,
   "metadata": {},
   "outputs": [],
   "source": [
    "split_video_into_frames(\"C:/Users/yuddo/OneDrive/바탕 화면/temp/Personal_Project/3-1/AlphaPose/pro_1.mp4\", \"C:/Users/yuddo/OneDrive/바탕 화면/temp/Personal_Project/3-1/AlphaPose/split_video\")"
   ]
  },
  {
   "cell_type": "code",
   "execution_count": 13,
   "metadata": {},
   "outputs": [
    {
     "data": {
      "text/plain": [
       "9009"
      ]
     },
     "execution_count": 13,
     "metadata": {},
     "output_type": "execute_result"
    }
   ],
   "source": [
    "import os\n",
    "import subprocess\n",
    "\n",
    "# AlphaPose 실행 명령어\n",
    "command = \"python3 scripts/demo_inference.py --cfg ${CONFIG} --checkpoint ${CHECKPOINT} --video ${VIDEO_PATH} --outdir ${OUTPUT_DIR} --save_video\"\n",
    "\n",
    "# 설정 변수 설정\n",
    "config_path = \"C:/Users/yuddo/OneDrive/바탕 화면/temp/Personal_Project/3-1/AlphaPose/configs/coco/resnet/256x192_res50_lr1e-3_1x.yaml\"\n",
    "checkpoint_path = \"C:/Users/yuddo/OneDrive/바탕 화면/temp/Personal_Project/3-1/AlphaPose/pretrained_models/fast_res50_256x192.pth\"\n",
    "video_path = \"C:/Users/yuddo/OneDrive/바탕 화면/temp/Personal_Project/3-1/AlphaPose/user.mp4\"\n",
    "output_dir = \"C:/Users/yuddo/OneDrive/바탕 화면/temp/Personal_Project/3-1/AlphaPose/output_alpha\"\n",
    "\n",
    "# 디렉토리 생성\n",
    "os.makedirs(output_dir, exist_ok=True)\n",
    "\n",
    "# 명령어에 변수 삽입\n",
    "command = command.replace(\"${CONFIG}\", config_path)\n",
    "command = command.replace(\"${CHECKPOINT}\", checkpoint_path)\n",
    "command = command.replace(\"${VIDEO_PATH}\", video_path)\n",
    "command = command.replace(\"${OUTPUT_DIR}\", output_dir)\n",
    "\n",
    "# AlphaPose 실행\n",
    "subprocess.call(command, shell=True)"
   ]
  }
 ],
 "metadata": {
  "kernelspec": {
   "display_name": "alphapose",
   "language": "python",
   "name": "python3"
  },
  "language_info": {
   "codemirror_mode": {
    "name": "ipython",
    "version": 3
   },
   "file_extension": ".py",
   "mimetype": "text/x-python",
   "name": "python",
   "nbconvert_exporter": "python",
   "pygments_lexer": "ipython3",
   "version": "3.7.16"
  },
  "orig_nbformat": 4
 },
 "nbformat": 4,
 "nbformat_minor": 2
}
